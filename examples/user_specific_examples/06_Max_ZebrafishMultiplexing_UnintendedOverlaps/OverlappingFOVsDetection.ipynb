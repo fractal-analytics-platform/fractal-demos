{
 "cells": [
  {
   "cell_type": "markdown",
   "id": "df09a072-ff87-49d6-8be3-34a8e9251edb",
   "metadata": {},
   "source": [
    "# Parsing Max Overlapping Metadata"
   ]
  },
  {
   "cell_type": "code",
   "execution_count": null,
   "id": "80683f63-1765-4369-b6e8-140bc9599a9e",
   "metadata": {},
   "outputs": [],
   "source": [
    "from fractal_tasks_core import lib_metadata_parsing, lib_remove_FOV_overlaps\n",
    "from fractal_tasks_core.tools import lib_metadata_checks\n",
    "from fractal_tasks_core.lib_regions_of_interest import prepare_well_ROI_table, prepare_FOV_ROI_table\n",
    "from pathlib import Path\n",
    "import numpy as np\n",
    "import pandas as pd\n",
    "import sys\n",
    "import matplotlib.pyplot as plt"
   ]
  },
  {
   "cell_type": "code",
   "execution_count": null,
   "id": "74317619-28f5-41e2-88e9-364c4e8206ea",
   "metadata": {},
   "outputs": [],
   "source": [
    "base_path = Path('/Users/joel/shares/dataShareFractal/3D/PelkmansLab/ZebrafishMultiplexing/cycle0')\n",
    "base_path = Path('/Users/joel/shares/dataShareFractal/3D/PelkmansLab/ZebrafishMultiplexing/cycle1')\n",
    "#base_path = Path('/Users/joel/shares/dataShareFractal/3D/PelkmansLab/CardiacMultiplexing/Cycle1_tinyTestSet')\n",
    "mlf_path = base_path / 'MeasurementData.mlf'\n",
    "mrf_path = base_path / 'MeasurementDetail.mrf'"
   ]
  },
  {
   "cell_type": "code",
   "execution_count": null,
   "id": "31ffe18e-acd3-431c-acb4-dc73060f5561",
   "metadata": {},
   "outputs": [],
   "source": [
    "# Parse mlf & mrf files\n",
    "site_metadata, total_files = lib_metadata_parsing.parse_yokogawa_metadata(mrf_path, mlf_path)\n",
    "\n",
    "# Set original positions\n",
    "site_metadata['x_micrometer_original'] = site_metadata['x_micrometer']\n",
    "site_metadata['y_micrometer_original'] = site_metadata['y_micrometer']\n",
    "site_metadata"
   ]
  },
  {
   "cell_type": "code",
   "execution_count": null,
   "id": "32b301a6-3178-42b4-a23a-66edfb8fe67c",
   "metadata": {},
   "outputs": [],
   "source": [
    "overlapping_FOVs = lib_metadata_checks.run_overlap_check(site_metadata, tol=1e-10)\n",
    "overlapping_FOVs"
   ]
  },
  {
   "cell_type": "code",
   "execution_count": null,
   "id": "7c1e7cf4-e5d4-485a-8328-68bc12135e47",
   "metadata": {},
   "outputs": [],
   "source": [
    "# TODO: Easy way to modify the positions that were found above\n",
    "overlapping_FOVs"
   ]
  },
  {
   "cell_type": "code",
   "execution_count": null,
   "id": "ddc5f16c-c5d8-4e06-bfa0-16a4c17e4361",
   "metadata": {},
   "outputs": [],
   "source": [
    "site_metadata.loc[('B04', 1), 'x_micrometer'] = -1500\n",
    "site_metadata.loc[('C07', 4), 'y_micrometer'] = -500\n",
    "site_metadata.loc[('D04', 2), 'y_micrometer'] = -1000\n",
    "site_metadata.loc[('E05', 5), 'y_micrometer'] = 300\n",
    "site_metadata.loc[('E05', 6), 'y_micrometer'] = 400\n",
    "site_metadata.loc[('F03', 2), 'x_micrometer'] = 1150\n",
    "site_metadata.loc[('F05', 9), 'x_micrometer'] = 0\n",
    "site_metadata.loc[('F06', 8), 'x_micrometer'] = -3400"
   ]
  },
  {
   "cell_type": "code",
   "execution_count": null,
   "id": "181ed4e7-b412-4fd8-bc9f-c93b0a4e9c8f",
   "metadata": {},
   "outputs": [],
   "source": [
    "# Check current positions in a given well\n",
    "well = 'B04'\n",
    "FOV = 1\n",
    "site_metadata.loc[(well, FOV), 'x_micrometer']"
   ]
  },
  {
   "cell_type": "code",
   "execution_count": null,
   "id": "515cf4a0-8fa3-4374-b99d-0f2157cc5858",
   "metadata": {},
   "outputs": [],
   "source": [
    "# Plot a single well\n",
    "lib_metadata_checks.check_well_for_FOV_overlap(site_metadata, well, always_plot=True, tol=1e-10)"
   ]
  },
  {
   "cell_type": "code",
   "execution_count": null,
   "id": "5957faf5-1dd6-4bdf-846c-1b187524753e",
   "metadata": {},
   "outputs": [],
   "source": [
    "# Rerun the overlap check to see that all overlaps have been handled\n",
    "overlapping_FOVs = lib_metadata_checks.run_overlap_check(site_metadata, tol=1e-10)\n",
    "overlapping_FOVs"
   ]
  },
  {
   "cell_type": "code",
   "execution_count": null,
   "id": "aebd05f5-17b2-4966-8135-ace08ccd4ad4",
   "metadata": {},
   "outputs": [],
   "source": [
    "# Save the corrected site_metadata table to a csv file to be used in Fractal\n",
    "filename = 'site_metadata_ZebrafishMultiplexing_cycle0.csv'\n",
    "site_metadata.to_csv(filename)"
   ]
  },
  {
   "cell_type": "code",
   "execution_count": null,
   "id": "5e5f2531-ac51-4ee0-b8a7-80b3565f537e",
   "metadata": {},
   "outputs": [],
   "source": [
    "filename = 'site_metadata_ZebrafishMultiplexing_cycle1.csv'\n",
    "site_metadata.to_csv(filename)"
   ]
  },
  {
   "cell_type": "code",
   "execution_count": null,
   "id": "13ac07eb-cc64-404f-b7e4-8cef4d483592",
   "metadata": {},
   "outputs": [],
   "source": []
  }
 ],
 "metadata": {
  "kernelspec": {
   "display_name": "Python 3 (ipykernel)",
   "language": "python",
   "name": "python3"
  },
  "language_info": {
   "codemirror_mode": {
    "name": "ipython",
    "version": 3
   },
   "file_extension": ".py",
   "mimetype": "text/x-python",
   "name": "python",
   "nbconvert_exporter": "python",
   "pygments_lexer": "ipython3",
   "version": "3.9.15"
  }
 },
 "nbformat": 4,
 "nbformat_minor": 5
}
